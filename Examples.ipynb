{
 "cells": [
  {
   "cell_type": "markdown",
   "id": "42bfd9cc",
   "metadata": {},
   "source": [
    "# Examples\n",
    "\n",
    "This brief notebook provides examples of the format of output you might expect when running the _holiday_script.py_ file.\n",
    "\n",
    "Note: both _holiday_script.py_ and the _holidays.csv_ file are saved in the same directory as this notebook.\n",
    "\n",
    "These first set of commands will allow me execute _holiday_script.py_ inside this notebook, allowing me to examine the output from each function."
   ]
  },
  {
   "cell_type": "code",
   "execution_count": 1,
   "id": "17af8b3b",
   "metadata": {},
   "outputs": [],
   "source": [
    "import os\n",
    "script_path = './holiday_script.py'\n",
    "os.system(f'python {script_path}')\n",
    "%run holiday_script.py"
   ]
  },
  {
   "cell_type": "markdown",
   "id": "399391f2",
   "metadata": {},
   "source": [
    "#### Upcoming US Holidays\n",
    "\n",
    "The ``holidays1`` function outputs the upcoming 10 public holidays in the U.S."
   ]
  },
  {
   "cell_type": "code",
   "execution_count": 2,
   "id": "1790af91",
   "metadata": {},
   "outputs": [
    {
     "data": {
      "text/plain": [
       "[{'name': 'Columbus Day',\n",
       "  'countryCode': 'US',\n",
       "  'country': 'United States',\n",
       "  'date': '2023-10-09',\n",
       "  'type': 'Public',\n",
       "  'global': False},\n",
       " {'name': 'Veterans Day',\n",
       "  'countryCode': 'US',\n",
       "  'country': 'United States',\n",
       "  'date': '2023-11-10',\n",
       "  'type': 'Public',\n",
       "  'global': True},\n",
       " {'name': 'Thanksgiving Day',\n",
       "  'countryCode': 'US',\n",
       "  'country': 'United States',\n",
       "  'date': '2023-11-23',\n",
       "  'type': 'Public',\n",
       "  'global': True},\n",
       " {'name': 'Christmas Day',\n",
       "  'countryCode': 'US',\n",
       "  'country': 'United States',\n",
       "  'date': '2023-12-25',\n",
       "  'type': 'Public',\n",
       "  'global': True},\n",
       " {'name': \"New Year's Day\",\n",
       "  'countryCode': 'US',\n",
       "  'country': 'United States',\n",
       "  'date': '2024-01-01',\n",
       "  'type': 'Public',\n",
       "  'global': True},\n",
       " {'name': 'Martin Luther King, Jr. Day',\n",
       "  'countryCode': 'US',\n",
       "  'country': 'United States',\n",
       "  'date': '2024-01-15',\n",
       "  'type': 'Public',\n",
       "  'global': True},\n",
       " {'name': \"Washington's Birthday\",\n",
       "  'countryCode': 'US',\n",
       "  'country': 'United States',\n",
       "  'date': '2024-02-19',\n",
       "  'type': 'Public',\n",
       "  'global': True},\n",
       " {'name': 'Good Friday',\n",
       "  'countryCode': 'US',\n",
       "  'country': 'United States',\n",
       "  'date': '2024-03-29',\n",
       "  'type': 'Public',\n",
       "  'global': False},\n",
       " {'name': 'Memorial Day',\n",
       "  'countryCode': 'US',\n",
       "  'country': 'United States',\n",
       "  'date': '2024-05-27',\n",
       "  'type': 'Public',\n",
       "  'global': True},\n",
       " {'name': 'Juneteenth',\n",
       "  'countryCode': 'US',\n",
       "  'country': 'United States',\n",
       "  'date': '2024-06-19',\n",
       "  'type': 'Public',\n",
       "  'global': True}]"
      ]
     },
     "execution_count": 2,
     "metadata": {},
     "output_type": "execute_result"
    }
   ],
   "source": [
    "holidays1()"
   ]
  },
  {
   "cell_type": "markdown",
   "id": "c1f9b16f",
   "metadata": {},
   "source": [
    "#### Upcoming US Holidays Matching global type\n",
    "\n",
    "This is a slight modification to ``holidays1``"
   ]
  },
  {
   "cell_type": "code",
   "execution_count": 3,
   "id": "b36b1473",
   "metadata": {},
   "outputs": [
    {
     "data": {
      "text/plain": [
       "[{'name': 'Columbus Day',\n",
       "  'countryCode': 'US',\n",
       "  'country': 'United States',\n",
       "  'date': '2023-10-09',\n",
       "  'type': 'Public',\n",
       "  'global': False},\n",
       " {'name': 'Veterans Day',\n",
       "  'countryCode': 'US',\n",
       "  'country': 'United States',\n",
       "  'date': '2023-11-10',\n",
       "  'type': 'Public',\n",
       "  'global': True},\n",
       " {'name': 'Thanksgiving Day',\n",
       "  'countryCode': 'US',\n",
       "  'country': 'United States',\n",
       "  'date': '2023-11-23',\n",
       "  'type': 'Public',\n",
       "  'global': True},\n",
       " {'name': 'Christmas Day',\n",
       "  'countryCode': 'US',\n",
       "  'country': 'United States',\n",
       "  'date': '2023-12-25',\n",
       "  'type': 'Public',\n",
       "  'global': True},\n",
       " {'name': \"New Year's Day\",\n",
       "  'countryCode': 'US',\n",
       "  'country': 'United States',\n",
       "  'date': '2024-01-01',\n",
       "  'type': 'Public',\n",
       "  'global': True},\n",
       " {'name': 'Martin Luther King, Jr. Day',\n",
       "  'countryCode': 'US',\n",
       "  'country': 'United States',\n",
       "  'date': '2024-01-15',\n",
       "  'type': 'Public',\n",
       "  'global': True},\n",
       " {'name': \"Washington's Birthday\",\n",
       "  'countryCode': 'US',\n",
       "  'country': 'United States',\n",
       "  'date': '2024-02-19',\n",
       "  'type': 'Public',\n",
       "  'global': True},\n",
       " {'name': 'Good Friday',\n",
       "  'countryCode': 'US',\n",
       "  'country': 'United States',\n",
       "  'date': '2024-03-29',\n",
       "  'type': 'Public',\n",
       "  'global': False},\n",
       " {'name': 'Memorial Day',\n",
       "  'countryCode': 'US',\n",
       "  'country': 'United States',\n",
       "  'date': '2024-05-27',\n",
       "  'type': 'Public',\n",
       "  'global': True},\n",
       " {'name': 'Juneteenth',\n",
       "  'countryCode': 'US',\n",
       "  'country': 'United States',\n",
       "  'date': '2024-06-19',\n",
       "  'type': 'Public',\n",
       "  'global': True}]"
      ]
     },
     "execution_count": 3,
     "metadata": {},
     "output_type": "execute_result"
    }
   ],
   "source": [
    "holidays2()"
   ]
  },
  {
   "cell_type": "code",
   "execution_count": 4,
   "id": "d9e326c3",
   "metadata": {},
   "outputs": [
    {
     "data": {
      "text/plain": [
       "[{'name': 'Columbus Day',\n",
       "  'countryCode': 'US',\n",
       "  'country': 'United States',\n",
       "  'date': '2023-10-09',\n",
       "  'type': 'Public',\n",
       "  'global': False},\n",
       " {'name': 'Good Friday',\n",
       "  'countryCode': 'US',\n",
       "  'country': 'United States',\n",
       "  'date': '2024-03-29',\n",
       "  'type': 'Public',\n",
       "  'global': False},\n",
       " {'name': 'Columbus Day',\n",
       "  'countryCode': 'US',\n",
       "  'country': 'United States',\n",
       "  'date': '2024-10-14',\n",
       "  'type': 'Public',\n",
       "  'global': False}]"
      ]
     },
     "execution_count": 4,
     "metadata": {},
     "output_type": "execute_result"
    }
   ],
   "source": [
    "holidays2(globe=False)"
   ]
  },
  {
   "cell_type": "markdown",
   "id": "f7899e8d",
   "metadata": {},
   "source": [
    "#### Comparison Country\n",
    "\n",
    "The function ``holidays3`` outputs the list of holidays shared between the U.S. and the comparison country."
   ]
  },
  {
   "cell_type": "code",
   "execution_count": 5,
   "id": "6319913d",
   "metadata": {},
   "outputs": [
    {
     "data": {
      "text/plain": [
       "[{'name': 'Columbus Day',\n",
       "  'countryCode': 'US',\n",
       "  'country': 'United States',\n",
       "  'date': '2023-10-09',\n",
       "  'type': 'Public',\n",
       "  'global': False},\n",
       " {'name': 'Veterans Day',\n",
       "  'countryCode': 'US',\n",
       "  'country': 'United States',\n",
       "  'date': '2023-11-10',\n",
       "  'type': 'Public',\n",
       "  'global': True},\n",
       " {'name': 'Thanksgiving Day',\n",
       "  'countryCode': 'US',\n",
       "  'country': 'United States',\n",
       "  'date': '2023-11-23',\n",
       "  'type': 'Public',\n",
       "  'global': True},\n",
       " {'name': 'Christmas Day',\n",
       "  'countryCode': 'US',\n",
       "  'country': 'United States',\n",
       "  'date': '2023-12-25',\n",
       "  'type': 'Public',\n",
       "  'global': True},\n",
       " {'name': \"New Year's Day\",\n",
       "  'countryCode': 'US',\n",
       "  'country': 'United States',\n",
       "  'date': '2024-01-01',\n",
       "  'type': 'Public',\n",
       "  'global': True},\n",
       " {'name': 'Martin Luther King, Jr. Day',\n",
       "  'countryCode': 'US',\n",
       "  'country': 'United States',\n",
       "  'date': '2024-01-15',\n",
       "  'type': 'Public',\n",
       "  'global': True},\n",
       " {'name': \"Washington's Birthday\",\n",
       "  'countryCode': 'US',\n",
       "  'country': 'United States',\n",
       "  'date': '2024-02-19',\n",
       "  'type': 'Public',\n",
       "  'global': True},\n",
       " {'name': 'Good Friday',\n",
       "  'countryCode': 'US',\n",
       "  'country': 'United States',\n",
       "  'date': '2024-03-29',\n",
       "  'type': 'Public',\n",
       "  'global': False},\n",
       " {'name': 'Memorial Day',\n",
       "  'countryCode': 'US',\n",
       "  'country': 'United States',\n",
       "  'date': '2024-05-27',\n",
       "  'type': 'Public',\n",
       "  'global': True},\n",
       " {'name': 'Juneteenth',\n",
       "  'countryCode': 'US',\n",
       "  'country': 'United States',\n",
       "  'date': '2024-06-19',\n",
       "  'type': 'Public',\n",
       "  'global': True}]"
      ]
     },
     "execution_count": 5,
     "metadata": {},
     "output_type": "execute_result"
    }
   ],
   "source": [
    "holidays3()"
   ]
  },
  {
   "cell_type": "code",
   "execution_count": 6,
   "id": "6349dc77",
   "metadata": {},
   "outputs": [
    {
     "data": {
      "text/plain": [
       "[{'name': 'Christmas Day',\n",
       "  'countryCode': 'US',\n",
       "  'country': 'United States',\n",
       "  'date': '2023-12-25',\n",
       "  'type': 'Public',\n",
       "  'global': True},\n",
       " {'name': \"New Year's Day\",\n",
       "  'countryCode': 'US',\n",
       "  'country': 'United States',\n",
       "  'date': '2024-01-01',\n",
       "  'type': 'Public',\n",
       "  'global': True},\n",
       " {'name': 'Christmas Day',\n",
       "  'countryCode': 'US',\n",
       "  'country': 'United States',\n",
       "  'date': '2024-12-25',\n",
       "  'type': 'Public',\n",
       "  'global': True}]"
      ]
     },
     "execution_count": 6,
     "metadata": {},
     "output_type": "execute_result"
    }
   ],
   "source": [
    "holidays3(comparison_country = 'Mexico')"
   ]
  },
  {
   "cell_type": "markdown",
   "id": "d752cddc",
   "metadata": {},
   "source": [
    "#### List of Countries Sharing Overlap in Holidays\n",
    "\n",
    "The final function, ``most_common_countries`` outputs a list of the countries that have the most overlap in holidays, as compared to the comparison country."
   ]
  },
  {
   "cell_type": "code",
   "execution_count": 7,
   "id": "8d535d09",
   "metadata": {},
   "outputs": [
    {
     "data": {
      "text/plain": [
       "[{'common_dates': 11, 'country': 'Puerto Rico'},\n",
       " {'common_dates': 9, 'country': 'Canada'},\n",
       " {'common_dates': 4, 'country': 'Gibraltar'},\n",
       " {'common_dates': 4, 'country': 'Belize'},\n",
       " {'common_dates': 4, 'country': 'Panama'},\n",
       " {'common_dates': 4, 'country': 'Spain'},\n",
       " {'common_dates': 4, 'country': 'United Kingdom'},\n",
       " {'common_dates': 4, 'country': 'Chile'},\n",
       " {'common_dates': 4, 'country': 'Jersey'},\n",
       " {'common_dates': 4, 'country': 'Isle of Man'}]"
      ]
     },
     "execution_count": 7,
     "metadata": {},
     "output_type": "execute_result"
    }
   ],
   "source": [
    "most_common_countries(comparison_country = 'United States')"
   ]
  },
  {
   "cell_type": "code",
   "execution_count": 8,
   "id": "47b325ab",
   "metadata": {},
   "outputs": [
    {
     "data": {
      "text/plain": [
       "[{'common_dates': 9, 'country': 'Luxembourg'},\n",
       " {'common_dates': 9, 'country': 'Belgium'},\n",
       " {'common_dates': 8, 'country': 'Austria'},\n",
       " {'common_dates': 8, 'country': 'Monaco'},\n",
       " {'common_dates': 8, 'country': 'Madagascar'},\n",
       " {'common_dates': 8, 'country': 'Liechtenstein'},\n",
       " {'common_dates': 8, 'country': 'Germany'},\n",
       " {'common_dates': 8, 'country': 'Benin'},\n",
       " {'common_dates': 8, 'country': 'Switzerland'},\n",
       " {'common_dates': 7, 'country': 'Andorra'}]"
      ]
     },
     "execution_count": 8,
     "metadata": {},
     "output_type": "execute_result"
    }
   ],
   "source": [
    "most_common_countries(comparison_country = 'France')"
   ]
  },
  {
   "cell_type": "code",
   "execution_count": null,
   "id": "328416df",
   "metadata": {},
   "outputs": [],
   "source": []
  }
 ],
 "metadata": {
  "kernelspec": {
   "display_name": "Python 3",
   "language": "python",
   "name": "python3"
  },
  "language_info": {
   "codemirror_mode": {
    "name": "ipython",
    "version": 3
   },
   "file_extension": ".py",
   "mimetype": "text/x-python",
   "name": "python",
   "nbconvert_exporter": "python",
   "pygments_lexer": "ipython3",
   "version": "3.8.3"
  }
 },
 "nbformat": 4,
 "nbformat_minor": 5
}
